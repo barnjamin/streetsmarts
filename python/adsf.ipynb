{
 "cells": [
  {
   "cell_type": "code",
   "execution_count": 3,
   "metadata": {},
   "outputs": [
    {
     "name": "stdout",
     "output_type": "stream",
     "text": [
      "The autoreload extension is already loaded. To reload it, use:\n",
      "  %reload_ext autoreload\n"
     ]
    }
   ],
   "source": [
    "from road_segments import *\n",
    "import os\n",
    "from os import listdir\n",
    "from os.path import isfile, join\n",
    "\n",
    "%load_ext autoreload\n",
    "%autoreload 2"
   ]
  },
  {
   "cell_type": "code",
   "execution_count": 8,
   "metadata": {},
   "outputs": [
    {
     "name": "stdout",
     "output_type": "stream",
     "text": [
      "reloaded\n"
     ]
    }
   ],
   "source": [
    "request_url = build_url(gps_raw[:100])\n",
    "result = requests.get(request_url, params=params)\n",
    "response = result.json()\n",
    "\n",
    "street_times        = get_street_times(response)\n",
    "street_points       = get_street_points(street_times)\n",
    "street_frame_bounds = get_street_bounds(street_times)"
   ]
  },
  {
   "cell_type": "code",
   "execution_count": 9,
   "metadata": {},
   "outputs": [
    {
     "name": "stdout",
     "output_type": "stream",
     "text": [
      "Working on Rigi Avenue\n",
      "Got 13 pose graphs\n",
      "Working on Coughlin Avenue\n",
      "Got 3 pose graphs\n",
      "Working on Colby Avenue\n",
      "Got 11 pose graphs\n",
      "Working on Tyson Place\n",
      "Got 3 pose graphs\n"
     ]
    }
   ],
   "source": [
    "method      = o3d.registration.GlobalOptimizationLevenbergMarquardt()\n",
    "criteria    = o3d.registration.GlobalOptimizationConvergenceCriteria()\n",
    "option      = o3d.registration.GlobalOptimizationOption(\n",
    "            max_correspondence_distance=0.05,\n",
    "            edge_prune_threshold=0.25,\n",
    "            preference_loop_closure=0.01,\n",
    "            reference_node=0)\n",
    "\n",
    "\n",
    "pg = o3d.io.read_pose_graph(dataset + \"/pose/full.json\")\n",
    "\n",
    "g2n = get_gps_to_node(pg, gps_raw, 0)\n",
    "\n",
    "fullpg_idxmap = {}\n",
    "street_g2pg   = {}\n",
    "\n",
    "for street, bounds in street_frame_bounds.items():\n",
    "    print(\"Working on {}\".format(street))\n",
    "    \n",
    "    npgs, g2pg, idxmap = chunk_pg(pg, g2n, int(bounds['start']), int(bounds['stop']))\n",
    "    \n",
    "    street_g2pg[street] = g2pg\n",
    "    fullpg_idxmap[street] = idxmap\n",
    "    print(\"Got {} pose graphs\".format(len(npgs)))\n",
    "    \n",
    "    \n",
    "    for idx in range(len(npgs)):\n",
    "        streetdir = dataset + \"/pose/\" + street.replace(\" \", \"_\")\n",
    "        \n",
    "        if not os.path.isdir(streetdir):\n",
    "            os.mkdir(streetdir)\n",
    "            \n",
    "        o3d.registration.global_optimization(npgs[idx], method, criteria, option)\n",
    "\n",
    "        o3d.io.write_pose_graph(streetdir + \"/{0:03}.json\".format(idx), npgs[idx])\n",
    "    "
   ]
  },
  {
   "cell_type": "code",
   "execution_count": 17,
   "metadata": {},
   "outputs": [
    {
     "name": "stdout",
     "output_type": "stream",
     "text": [
      "Rigi Avenue: 0\n",
      "Rigi Avenue: 1\n",
      "Rigi Avenue: 2\n",
      "Rigi Avenue: 3\n",
      "Rigi Avenue: 4\n",
      "Rigi Avenue: 5\n",
      "Rigi Avenue: 6\n",
      "Rigi Avenue: 7\n",
      "Rigi Avenue: 8\n",
      "Rigi Avenue: 9\n",
      "Rigi Avenue: 10\n",
      "Rigi Avenue: 11\n",
      "Rigi Avenue: 12\n",
      "Coughlin Avenue: 0\n",
      "Coughlin Avenue: 1\n",
      "Coughlin Avenue: 2\n",
      "Colby Avenue: 0\n",
      "Colby Avenue: 1\n",
      "Colby Avenue: 2\n",
      "Colby Avenue: 3\n",
      "Colby Avenue: 4\n",
      "Colby Avenue: 5\n",
      "Colby Avenue: 6\n",
      "Colby Avenue: 7\n",
      "Colby Avenue: 8\n",
      "Colby Avenue: 9\n",
      "Colby Avenue: 10\n",
      "Tyson Place: 0\n",
      "Tyson Place: 1\n",
      "Tyson Place: 2\n"
     ]
    }
   ],
   "source": [
    "method      = o3d.registration.GlobalOptimizationLevenbergMarquardt()\n",
    "criteria    = o3d.registration.GlobalOptimizationConvergenceCriteria()\n",
    "option      = o3d.registration.GlobalOptimizationOption(\n",
    "            max_correspondence_distance=0.05,\n",
    "            edge_prune_threshold=0.25,\n",
    "            preference_loop_closure=0.01,\n",
    "            reference_node=0)\n",
    "\n",
    "for street, nothing in street_times.items():\n",
    "    streetdir = dataset + \"/pose/\" + street.replace(\" \", \"_\")\n",
    "    for fidx in range(len(street_g2pg[street])):\n",
    "\n",
    "        print(\"{}: {}\".format(street, fidx))\n",
    "        road = o3d.io.read_pose_graph(streetdir + \"/{0:03}.json\".format(fidx))\n",
    "\n",
    "        sp = street_g2pg[street][fidx]\n",
    "\n",
    "        gps_start = np.array([sp[0][4],sp[0][5],1])\n",
    "        gps_stop = np.array([sp[-1][4],sp[-1][5],1])\n",
    "        gps_bearing = gps_stop - gps_start\n",
    "\n",
    "        road_start = road.nodes[0].pose[:3,3]\n",
    "        road_stop = road.nodes[len(road.nodes)-1].pose[:3,3]\n",
    "        road_bearing = road_stop - road_start\n",
    "\n",
    "        #camera travels in Z direction, need to rotate to align with gps bearing\n",
    "        t = R.from_dcm(get_rotation(gps_bearing, road_bearing))\n",
    "\n",
    "        gls = lineset_from_gps(sp, t)\n",
    "        pls = lineset_from_nodes(road)\n",
    "\n",
    "        inject_gps_edges(road, sp, fullpg_idxmap[street][fidx][0], t)\n",
    "        o3d.io.write_pose_graph(streetdir + \"/{0:03}_test.json\".format(fidx), road)\n",
    "\n",
    "        o3d.registration.global_optimization(road, method, criteria, option)\n",
    "        o3d.io.write_pose_graph(streetdir + \"/{0:03}_optimized_with_gps.json\".format(fidx), road)\n"
   ]
  },
  {
   "cell_type": "code",
   "execution_count": null,
   "metadata": {},
   "outputs": [],
   "source": []
  }
 ],
 "metadata": {
  "kernelspec": {
   "display_name": "Python 3",
   "language": "python",
   "name": "python3"
  },
  "language_info": {
   "codemirror_mode": {
    "name": "ipython",
    "version": 3
   },
   "file_extension": ".py",
   "mimetype": "text/x-python",
   "name": "python",
   "nbconvert_exporter": "python",
   "pygments_lexer": "ipython3",
   "version": "3.6.8"
  }
 },
 "nbformat": 4,
 "nbformat_minor": 2
}
