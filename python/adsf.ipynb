{
 "cells": [
  {
   "cell_type": "code",
   "execution_count": 45,
   "metadata": {},
   "outputs": [
    {
     "name": "stdout",
     "output_type": "stream",
     "text": [
      "reloaded\n",
      "The autoreload extension is already loaded. To reload it, use:\n",
      "  %reload_ext autoreload\n"
     ]
    }
   ],
   "source": [
    "from road_segments import *\n",
    "from os import listdir\n",
    "from os.path import isfile, join\n",
    "\n",
    "%load_ext autoreload\n",
    "%autoreload 2\n"
   ]
  },
  {
   "cell_type": "code",
   "execution_count": 81,
   "metadata": {},
   "outputs": [
    {
     "name": "stdout",
     "output_type": "stream",
     "text": [
      "Working on Rigi Avenue\n",
      "Got 13 pose graphs\n",
      "Working on Coughlin Avenue\n",
      "Got 3 pose graphs\n",
      "Working on Colby Avenue\n",
      "Got 11 pose graphs\n",
      "Working on Tyson Place\n",
      "Got 3 pose graphs\n"
     ]
    }
   ],
   "source": [
    "request_url = build_url(gps_raw[:100])\n",
    "result = requests.get(request_url, params=params)\n",
    "response = result.json()\n",
    "\n",
    "street_times = get_street_times(response)\n",
    "\n",
    "street_points = get_street_points(street_times)\n",
    "street_frame_bounds = get_street_bounds(street_times)\n",
    "\n",
    "method      = o3d.registration.GlobalOptimizationLevenbergMarquardt()\n",
    "criteria    = o3d.registration.GlobalOptimizationConvergenceCriteria()\n",
    "option      = o3d.registration.GlobalOptimizationOption(\n",
    "            max_correspondence_distance=0.05,\n",
    "            edge_prune_threshold=0.25,\n",
    "            preference_loop_closure=0.01,\n",
    "            reference_node=0)\n",
    "\n",
    "\n",
    "pg = o3d.io.read_pose_graph(dataset + \"/pose/full.json\")\n",
    "\n",
    "g2n = get_gps_to_node(pg, gps_raw, 0)\n",
    "\n",
    "#fullpg_to_segment['street'][segment][index] = original\n",
    "fullpg_idxmap = {}\n",
    "\n",
    "street_g2pg = {}\n",
    "import os\n",
    "for street, bounds in street_frame_bounds.items():\n",
    "    print(\"Working on {}\".format(street))\n",
    "    \n",
    "    npgs, g2pg, idxmap = chunk_pg(pg, g2n, int(bounds['start']), int(bounds['stop']))\n",
    "    \n",
    "    street_g2pg[street] = g2pg\n",
    "    fullpg_idxmap[street] = idxmap\n",
    "    print(\"Got {} pose graphs\".format(len(npgs)))\n",
    "    \n",
    "    \n",
    "    for idx in range(len(npgs)):\n",
    "        streetdir = dataset + \"/pose/\" + street.replace(\" \", \"_\")\n",
    "        \n",
    "        if not os.path.isdir(streetdir):\n",
    "            os.mkdir(streetdir)\n",
    "            \n",
    "        o3d.registration.global_optimization(road, method, criteria, option)\n",
    "\n",
    "        o3d.io.write_pose_graph(streetdir + \"/{0:03}.json\".format(idx), npgs[idx])\n",
    "    \n"
   ]
  },
  {
   "cell_type": "code",
   "execution_count": 82,
   "metadata": {},
   "outputs": [
    {
     "name": "stdout",
     "output_type": "stream",
     "text": [
      "reading: 0\n",
      "[0.01478732 0.09236399 0.        ]\n",
      "[ 0.35838396  0.4763409  -2.22160861]\n",
      "[-0.00779817  0.02295277  0.09034451]\n",
      "reading: 1\n",
      "[-0.38402998  3.8184701   0.        ]\n",
      "[  6.44468386   3.7207631  -24.05091969]\n",
      "[-1.07567568  0.3601967   3.66624782]\n",
      "reading: 2\n",
      "[-1.13362137  8.73394407  0.        ]\n",
      "[  4.21876379   4.16248613 -26.93533616]\n",
      "[-1.64190782  0.94126474  8.60145545]\n",
      "reading: 3\n",
      "[-0.87704139 11.72946688  0.        ]\n",
      "[  8.24834236   1.95200821 -22.84873998]\n",
      "[-4.0768668   0.33961968 11.02784704]\n",
      "reading: 4\n",
      "[-0.47777879 14.22329496  0.        ]\n",
      "[  9.14915524   2.12308797 -25.95852787]\n",
      "[-4.77944438  0.77552183 13.38229686]\n",
      "reading: 5\n",
      "[-0.61811397 16.96487854  0.        ]\n",
      "[ 11.73477076   0.34161331 -24.00824599]\n",
      "[-7.45017871 -0.32603873 15.25049851]\n"
     ]
    }
   ],
   "source": [
    "\n",
    "method      = o3d.registration.GlobalOptimizationLevenbergMarquardt()\n",
    "criteria    = o3d.registration.GlobalOptimizationConvergenceCriteria()\n",
    "option      = o3d.registration.GlobalOptimizationOption(\n",
    "            max_correspondence_distance=0.05,\n",
    "            edge_prune_threshold=0.25,\n",
    "            preference_loop_closure=0.01,\n",
    "            reference_node=0)\n",
    "\n",
    "street = 'Rigi Avenue'\n",
    "\n",
    "streetdir = dataset + \"/pose/\" + street.replace(\" \", \"_\")\n",
    "\n",
    "\n",
    "for fidx in range(len(street_g2pg[street])):\n",
    "        \n",
    "    if fidx>5:\n",
    "        break\n",
    "        \n",
    "    print(\"reading: {}\".format(fidx))\n",
    "    road = o3d.io.read_pose_graph(streetdir + \"/{0:03}.json\".format(fidx))\n",
    "        \n",
    "    sp = street_g2pg[street][fidx]\n",
    "    \n",
    "    gps_start = np.array([sp[0][4],sp[0][5],1])\n",
    "    gps_stop = np.array([sp[-1][4],sp[-1][5],1])\n",
    "    gps_bearing = gps_stop - gps_start\n",
    "\n",
    "    print(gps_bearing)\n",
    "    \n",
    "    road_start = road.nodes[0].pose[:3,3]\n",
    "    road_stop = road.nodes[len(road.nodes)-1].pose[:3,3]\n",
    "    road_bearing = road_start - road_stop\n",
    "    \n",
    "    print(road_bearing)\n",
    "    \n",
    "    #camera travels in Z direction, need to rotate it to align with gps bearing\n",
    "    t = R.from_dcm(get_rotation(gps_bearing, road_bearing)).inv()\n",
    "    \n",
    "    print(t.apply(gps_bearing))\n",
    "\n",
    "    #leftover disparity is dominated by pitch of camera \n",
    "    #camera_pitch = zrot.apply(gps_bearing)\n",
    "    #pitch_rot = R.from_dcm(get_rotation(camera_pitch, road_bearing))\n",
    "\n",
    "    #t = R.from_dcm(np.identity(3))\n",
    "    \n",
    "    gls = lineset_from_gps(sp, R.from_dcm(np.identity(3)))\n",
    "    pls = lineset_from_nodes(road)\n",
    "    \n",
    "    i = np.identity(4)\n",
    "    i[:3,:3] = t.as_dcm()\n",
    "    \n",
    "    gls.transform(i)\n",
    "    o3d.visualization.draw_geometries([gls, pls])\n",
    "    \n",
    "    \n",
    "    \n",
    "#     inject_gps_edges(road, sp, fullpg_idxmap[street][fidx][0], t)\n",
    "#     o3d.io.write_pose_graph(streetdir + \"/{0:03}_test.json\".format(fidx), road)\n",
    "    \n",
    "#     o3d.registration.global_optimization(road, method, criteria, option)\n",
    "#     o3d.io.write_pose_graph(streetdir + \"/{0:03}_optimized_with_gps.json\".format(fidx), road)\n"
   ]
  },
  {
   "cell_type": "code",
   "execution_count": null,
   "metadata": {},
   "outputs": [],
   "source": []
  },
  {
   "cell_type": "code",
   "execution_count": null,
   "metadata": {},
   "outputs": [],
   "source": []
  }
 ],
 "metadata": {
  "kernelspec": {
   "display_name": "Python 3",
   "language": "python",
   "name": "python3"
  },
  "language_info": {
   "codemirror_mode": {
    "name": "ipython",
    "version": 3
   },
   "file_extension": ".py",
   "mimetype": "text/x-python",
   "name": "python",
   "nbconvert_exporter": "python",
   "pygments_lexer": "ipython3",
   "version": "3.6.8"
  }
 },
 "nbformat": 4,
 "nbformat_minor": 2
}
